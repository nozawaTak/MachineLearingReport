{
 "cells": [
  {
   "cell_type": "code",
   "execution_count": 27,
   "metadata": {},
   "outputs": [],
   "source": [
    "import numpy as np\n",
    "import matplotlib.pyplot as plt\n",
    "from keras.datasets import cifar10\n",
    "from sklearn.ensemble import RandomForestClassifier\n",
    "import time\n",
    "\n",
    "(x_train, y_train), (x_test, y_test) = cifar10.load_data()\n",
    "x_train = x_train.reshape(x_train.shape[0],32,32,3)\n",
    "x_test = x_test.reshape(x_test.shape[0],32,32,3)"
   ]
  },
  {
   "cell_type": "code",
   "execution_count": 28,
   "metadata": {},
   "outputs": [],
   "source": [
    "x_train = x_train.astype('float32')\n",
    "x_test = x_test.astype('float32')\n",
    "x_train /= 255\n",
    "x_test /= 255"
   ]
  },
  {
   "cell_type": "code",
   "execution_count": 5,
   "metadata": {},
   "outputs": [
    {
     "name": "stderr",
     "output_type": "stream",
     "text": [
      "/Users/nozawa/anaconda3/lib/python3.6/site-packages/ipykernel_launcher.py:3: DataConversionWarning: A column-vector y was passed when a 1d array was expected. Please change the shape of y to (n_samples,), for example using ravel().\n",
      "  This is separate from the ipykernel package so we can avoid doing imports until\n"
     ]
    },
    {
     "name": "stdout",
     "output_type": "stream",
     "text": [
      "Train Acc:  0.43602\n",
      "Test Acc:  0.3714\n",
      "Time:  11.72766900062561\n"
     ]
    }
   ],
   "source": [
    "init_time = time.time()\n",
    "rf = RandomForestClassifier(max_depth=8)\n",
    "rf.fit(x_train, y_train)\n",
    "print(\"Train Acc: \", rf.score(x_train, y_train))\n",
    "print(\"Test Acc: \", rf.score(x_test, y_test))\n",
    "print(\"Time: \", time.time() - init_time)"
   ]
  },
  {
   "cell_type": "code",
   "execution_count": 6,
   "metadata": {},
   "outputs": [
    {
     "name": "stderr",
     "output_type": "stream",
     "text": [
      "/Users/nozawa/anaconda3/lib/python3.6/importlib/_bootstrap.py:219: RuntimeWarning: numpy.dtype size changed, may indicate binary incompatibility. Expected 96, got 88\n",
      "  return f(*args, **kwds)\n",
      "/Users/nozawa/anaconda3/lib/python3.6/site-packages/sklearn/utils/validation.py:578: DataConversionWarning: A column-vector y was passed when a 1d array was expected. Please change the shape of y to (n_samples, ), for example using ravel().\n",
      "  y = column_or_1d(y, warn=True)\n"
     ]
    },
    {
     "name": "stdout",
     "output_type": "stream",
     "text": [
      "Train Acc:  0.45122\n",
      "Test Acc:  0.4062\n",
      "Time:  177.61263394355774\n"
     ]
    }
   ],
   "source": [
    "from sklearn.svm import LinearSVC\n",
    "\n",
    "x_train_normed = x_train / np.linalg.norm(x_train, ord=2, axis=1, keepdims=True)\n",
    "x_test_normed = x_test / np.linalg.norm(x_test, ord=2, axis=1, keepdims=True)\n",
    "init_time = time.time()\n",
    "svc = LinearSVC()\n",
    "svc.fit(x_train_normed, y_train)\n",
    "print(\"Train Acc: \", svc.score(x_train_normed, y_train))\n",
    "print(\"Test Acc: \", svc.score(x_test_normed, y_test))\n",
    "print(\"Time: \", time.time() - init_time)"
   ]
  },
  {
   "cell_type": "code",
   "execution_count": 29,
   "metadata": {},
   "outputs": [],
   "source": [
    "from keras.utils import np_utils\n",
    "y_train = np_utils.to_categorical(y_train)\n",
    "y_test = np_utils.to_categorical(y_test)"
   ]
  },
  {
   "cell_type": "code",
   "execution_count": 7,
   "metadata": {},
   "outputs": [
    {
     "name": "stdout",
     "output_type": "stream",
     "text": [
      "Train on 40000 samples, validate on 10000 samples\n",
      "Epoch 1/20\n",
      "40000/40000 [==============================] - 37s 928us/step - loss: 1.8917 - acc: 0.3118 - val_loss: 1.7895 - val_acc: 0.3549\n",
      "Epoch 2/20\n",
      "40000/40000 [==============================] - 37s 932us/step - loss: 1.7043 - acc: 0.3847 - val_loss: 1.7022 - val_acc: 0.3893\n",
      "Epoch 3/20\n",
      "40000/40000 [==============================] - 37s 922us/step - loss: 1.6254 - acc: 0.4160 - val_loss: 1.6339 - val_acc: 0.4127\n",
      "Epoch 4/20\n",
      "40000/40000 [==============================] - 38s 945us/step - loss: 1.5614 - acc: 0.4405 - val_loss: 1.5921 - val_acc: 0.4338\n",
      "Epoch 5/20\n",
      "40000/40000 [==============================] - 38s 951us/step - loss: 1.5193 - acc: 0.4543 - val_loss: 1.5468 - val_acc: 0.4463\n",
      "Epoch 6/20\n",
      "40000/40000 [==============================] - 38s 949us/step - loss: 1.4822 - acc: 0.4651 - val_loss: 1.5538 - val_acc: 0.4437\n",
      "Epoch 7/20\n",
      "40000/40000 [==============================] - 38s 958us/step - loss: 1.4529 - acc: 0.4774 - val_loss: 1.5276 - val_acc: 0.4553\n",
      "Epoch 8/20\n",
      "40000/40000 [==============================] - 40s 989us/step - loss: 1.4239 - acc: 0.4889 - val_loss: 1.5110 - val_acc: 0.4630\n",
      "Epoch 9/20\n",
      "40000/40000 [==============================] - 39s 981us/step - loss: 1.4048 - acc: 0.4936 - val_loss: 1.5168 - val_acc: 0.4644\n",
      "Epoch 10/20\n",
      "40000/40000 [==============================] - 41s 1ms/step - loss: 1.3786 - acc: 0.5038 - val_loss: 1.4855 - val_acc: 0.4719\n",
      "Epoch 11/20\n",
      "40000/40000 [==============================] - 40s 999us/step - loss: 1.3551 - acc: 0.5105 - val_loss: 1.4828 - val_acc: 0.4805\n",
      "Epoch 12/20\n",
      "40000/40000 [==============================] - 44s 1ms/step - loss: 1.3347 - acc: 0.5168 - val_loss: 1.5443 - val_acc: 0.4612\n",
      "Epoch 13/20\n",
      "40000/40000 [==============================] - 44s 1ms/step - loss: 1.3168 - acc: 0.5246 - val_loss: 1.5446 - val_acc: 0.4612\n",
      "Epoch 14/20\n",
      "40000/40000 [==============================] - 46s 1ms/step - loss: 1.2949 - acc: 0.5300 - val_loss: 1.5402 - val_acc: 0.4638\n",
      "Epoch 15/20\n",
      "40000/40000 [==============================] - 42s 1ms/step - loss: 1.2806 - acc: 0.5378 - val_loss: 1.4826 - val_acc: 0.4816\n",
      "Epoch 16/20\n",
      "40000/40000 [==============================] - 45s 1ms/step - loss: 1.2560 - acc: 0.5444 - val_loss: 1.5072 - val_acc: 0.4707\n",
      "Epoch 17/20\n",
      "40000/40000 [==============================] - 47s 1ms/step - loss: 1.2471 - acc: 0.5513 - val_loss: 1.4818 - val_acc: 0.4913\n",
      "Epoch 18/20\n",
      "40000/40000 [==============================] - 49s 1ms/step - loss: 1.2270 - acc: 0.5564 - val_loss: 1.5360 - val_acc: 0.4746\n",
      "Epoch 19/20\n",
      "40000/40000 [==============================] - 41s 1ms/step - loss: 1.2082 - acc: 0.5665 - val_loss: 1.4866 - val_acc: 0.4902\n",
      "Epoch 20/20\n",
      "40000/40000 [==============================] - 46s 1ms/step - loss: 1.1961 - acc: 0.5668 - val_loss: 1.4893 - val_acc: 0.4867\n",
      "10000/10000 [==============================] - 1s 100us/step\n",
      "Loss:  1.4760916620254516 , Acc:  0.4887\n",
      "Time:  829.1456570625305\n"
     ]
    }
   ],
   "source": [
    "from keras.models import Sequential\n",
    "from keras.layers import Dense,Input,Flatten\n",
    "\n",
    "\n",
    "'''modelの設定'''\n",
    "model = Sequential()\n",
    "'''\n",
    "    modelにレイヤーを追加\n",
    "    32*32の3チャンネル画像を一次元に伸ばして入力(32*32*3=3072)\n",
    "'''\n",
    "model.add(Dense(512, activation='relu',input_shape=(32*32*3,)))\n",
    "model.add(Dense(256, activation='relu'))\n",
    "model.add(Dense(128, activation='relu'))\n",
    "model.add(Dense(10, activation='softmax'))\n",
    "\n",
    "'''modelに訓練プロセスを設定'''\n",
    "model.compile(loss='categorical_crossentropy',\n",
    "              optimizer='adam',\n",
    "              metrics=['accuracy'])\n",
    "\n",
    "init_time = time.time()\n",
    "''' 訓練データを設定＆学習 '''\n",
    "result3 = model.fit(x_train, y_train, epochs=20, batch_size=32,validation_split=0.2)\n",
    "\n",
    "''' モデルの評価 '''\n",
    "loss_and_metrics = model.evaluate(x_test, y_test, batch_size=128)\n",
    "print(\"Loss: \", loss_and_metrics[0], \", Acc: \", loss_and_metrics[1])\n",
    "print(\"Time: \", time.time()-init_time)"
   ]
  },
  {
   "cell_type": "code",
   "execution_count": 8,
   "metadata": {},
   "outputs": [
    {
     "data": {
      "image/png": "[encoded data removed]",
      "text/plain": [
       "<matplotlib.figure.Figure at 0x1a3becbfd0>"
      ]
     },
     "metadata": {},
     "output_type": "display_data"
    }
   ],
   "source": [
    "plt.plot(range(1, 20+1), result3.history['acc'], label=\"training\")\n",
    "plt.plot(range(1, 20+1), result3.history['val_acc'], label=\"validation\")\n",
    "plt.xlabel('Epochs')\n",
    "plt.ylabel('Accuracy')\n",
    "plt.legend()\n",
    "plt.show()"
   ]
  },
  {
   "cell_type": "code",
   "execution_count": 9,
   "metadata": {},
   "outputs": [
    {
     "data": {
      "image/png": "[encoded data removed]",
      "text/plain": [
       "<matplotlib.figure.Figure at 0x1a38721940>"
      ]
     },
     "metadata": {},
     "output_type": "display_data"
    }
   ],
   "source": [
    "plt.plot(range(1, 20+1), result3.history['loss'], label=\"training\")\n",
    "plt.plot(range(1, 20+1), result3.history['val_loss'], label=\"validation\")\n",
    "plt.xlabel('Epochs')\n",
    "plt.ylabel('Loss')\n",
    "plt.legend()\n",
    "plt.show()"
   ]
  }
 ],
 "metadata": {
  "kernelspec": {
   "display_name": "Python 3",
   "language": "python",
   "name": "python3"
  },
  "language_info": {
   "codemirror_mode": {
    "name": "ipython",
    "version": 3
   },
   "file_extension": ".py",
   "mimetype": "text/x-python",
   "name": "python",
   "nbconvert_exporter": "python",
   "pygments_lexer": "ipython3",
   "version": "3.6.4"
  }
 },
 "nbformat": 4,
 "nbformat_minor": 2
}
