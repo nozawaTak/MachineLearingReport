{
 "cells": [
  {
   "cell_type": "code",
   "execution_count": 38,
   "metadata": {},
   "outputs": [],
   "source": [
    "import numpy as np\n",
    "import matplotlib.pyplot as plt\n",
    "from keras.datasets import cifar10\n",
    "from sklearn.ensemble import RandomForestClassifier\n",
    "\n",
    "(x_train, y_train), (x_test, y_test) = cifar10.load_data()\n",
    "x_train = x_train.reshape(x_train.shape[0],32*32*3)\n",
    "x_test = x_test.reshape(x_test.shape[0],32*32*3)"
   ]
  },
  {
   "cell_type": "code",
   "execution_count": 39,
   "metadata": {},
   "outputs": [],
   "source": [
    "x_train = x_train.astype('float32')\n",
    "x_test = x_test.astype('float32')\n",
    "x_train /= 255\n",
    "x_test /= 255"
   ]
  },
  {
   "cell_type": "code",
   "execution_count": 40,
   "metadata": {},
   "outputs": [
    {
     "name": "stderr",
     "output_type": "stream",
     "text": [
      "/Users/nozawa/anaconda3/lib/python3.6/site-packages/ipykernel_launcher.py:2: DataConversionWarning: A column-vector y was passed when a 1d array was expected. Please change the shape of y to (n_samples,), for example using ravel().\n",
      "  \n"
     ]
    },
    {
     "name": "stdout",
     "output_type": "stream",
     "text": [
      "Train : 0.43684\n",
      "Test : 0.3718\n"
     ]
    }
   ],
   "source": [
    "rf = RandomForestClassifier(max_depth=8)\n",
    "rf.fit(x_train, y_train)\n",
    "print(\"Train :\", rf.score(x_train, y_train))\n",
    "print(\"Test :\", rf.score(x_test, y_test))"
   ]
  },
  {
   "cell_type": "code",
   "execution_count": null,
   "metadata": {},
   "outputs": [
    {
     "name": "stderr",
     "output_type": "stream",
     "text": [
      "/Users/nozawa/anaconda3/lib/python3.6/importlib/_bootstrap.py:219: RuntimeWarning: numpy.dtype size changed, may indicate binary incompatibility. Expected 96, got 88\n",
      "  return f(*args, **kwds)\n",
      "/Users/nozawa/anaconda3/lib/python3.6/site-packages/sklearn/utils/validation.py:578: DataConversionWarning: A column-vector y was passed when a 1d array was expected. Please change the shape of y to (n_samples, ), for example using ravel().\n",
      "  y = column_or_1d(y, warn=True)\n"
     ]
    }
   ],
   "source": [
    "from sklearn.svm import LinearSVC\n",
    "\n",
    "x_train_normed = x_train / np.linalg.norm(x_train, ord=2, axis=1, keepdims=True)\n",
    "x_test_normed = x_test / np.linalg.norm(x_test, ord=2, axis=1, keepdims=True)\n",
    "svc = LinearSVC()\n",
    "svc.fit(x_train_normed, y_train)\n",
    "\n",
    "print(\"Train :\", svc.score(x_train_normed, y_train))\n",
    "print(\"Test :\", svc.score(x_test_normed, y_test))"
   ]
  },
  {
   "cell_type": "code",
   "execution_count": 12,
   "metadata": {},
   "outputs": [
    {
     "name": "stdout",
     "output_type": "stream",
     "text": [
      "Train on 40000 samples, validate on 10000 samples\n",
      "Epoch 1/20\n",
      "40000/40000 [==============================] - 41s 1ms/step - loss: 1.9002 - acc: 0.3061 - val_loss: 1.8043 - val_acc: 0.3478\n",
      "Epoch 2/20\n",
      "40000/40000 [==============================] - 45s 1ms/step - loss: 1.7129 - acc: 0.3814 - val_loss: 1.6907 - val_acc: 0.3880\n",
      "Epoch 3/20\n",
      "40000/40000 [==============================] - 44s 1ms/step - loss: 1.6297 - acc: 0.4135 - val_loss: 1.6361 - val_acc: 0.4182\n",
      "Epoch 4/20\n",
      "40000/40000 [==============================] - 43s 1ms/step - loss: 1.5582 - acc: 0.4380 - val_loss: 1.5780 - val_acc: 0.4390\n",
      "Epoch 5/20\n",
      "40000/40000 [==============================] - 44s 1ms/step - loss: 1.5300 - acc: 0.4508 - val_loss: 1.5934 - val_acc: 0.4245\n",
      "Epoch 6/20\n",
      "40000/40000 [==============================] - 41s 1ms/step - loss: 1.4838 - acc: 0.4671 - val_loss: 1.5119 - val_acc: 0.4587\n",
      "Epoch 7/20\n",
      "40000/40000 [==============================] - 46s 1ms/step - loss: 1.4511 - acc: 0.4794 - val_loss: 1.5445 - val_acc: 0.4508\n",
      "Epoch 8/20\n",
      "40000/40000 [==============================] - 41s 1ms/step - loss: 1.4268 - acc: 0.4893 - val_loss: 1.4923 - val_acc: 0.4761\n",
      "Epoch 9/20\n",
      "40000/40000 [==============================] - 41s 1ms/step - loss: 1.4015 - acc: 0.4973 - val_loss: 1.4853 - val_acc: 0.4748\n",
      "Epoch 10/20\n",
      "40000/40000 [==============================] - 42s 1ms/step - loss: 1.3749 - acc: 0.5046 - val_loss: 1.4753 - val_acc: 0.4809\n",
      "Epoch 11/20\n",
      "40000/40000 [==============================] - 42s 1ms/step - loss: 1.3520 - acc: 0.5140 - val_loss: 1.4799 - val_acc: 0.4812\n",
      "Epoch 12/20\n",
      "40000/40000 [==============================] - 42s 1ms/step - loss: 1.3296 - acc: 0.5238 - val_loss: 1.4798 - val_acc: 0.4819\n",
      "Epoch 13/20\n",
      "40000/40000 [==============================] - 42s 1ms/step - loss: 1.3132 - acc: 0.5268 - val_loss: 1.4607 - val_acc: 0.4890\n",
      "Epoch 14/20\n",
      "40000/40000 [==============================] - 42s 1ms/step - loss: 1.2862 - acc: 0.5366 - val_loss: 1.4791 - val_acc: 0.4866\n",
      "Epoch 15/20\n",
      "40000/40000 [==============================] - 47s 1ms/step - loss: 1.2702 - acc: 0.5402 - val_loss: 1.4682 - val_acc: 0.4923\n",
      "Epoch 16/20\n",
      "40000/40000 [==============================] - 39s 984us/step - loss: 1.2485 - acc: 0.5517 - val_loss: 1.4950 - val_acc: 0.4874\n",
      "Epoch 17/20\n",
      "40000/40000 [==============================] - 39s 984us/step - loss: 1.2321 - acc: 0.5563 - val_loss: 1.4736 - val_acc: 0.4973\n",
      "Epoch 18/20\n",
      "40000/40000 [==============================] - 44s 1ms/step - loss: 1.2099 - acc: 0.5653 - val_loss: 1.5042 - val_acc: 0.4888\n",
      "Epoch 19/20\n",
      "40000/40000 [==============================] - 40s 1ms/step - loss: 1.1982 - acc: 0.5688 - val_loss: 1.4881 - val_acc: 0.4915\n",
      "Epoch 20/20\n",
      "40000/40000 [==============================] - 45s 1ms/step - loss: 1.1834 - acc: 0.5725 - val_loss: 1.5085 - val_acc: 0.4897\n",
      "10000/10000 [==============================] - 1s 69us/step\n",
      "[1.500324641609192, 0.4892]\n",
      "[[4.1394040e-02 8.1203900e-02 2.5420342e-02 ... 2.8101869e-03\n",
      "  8.7023549e-02 2.2528285e-02]\n",
      " [1.5392719e-01 1.4962562e-02 8.1806872e-03 ... 2.1797791e-03\n",
      "  5.8111233e-01 2.3754193e-01]\n",
      " [2.6201737e-01 2.3424059e-01 1.1388370e-03 ... 1.2301781e-03\n",
      "  4.1476110e-01 8.5952193e-02]\n",
      " ...\n",
      " [4.0535508e-03 8.5652791e-06 1.9855858e-01 ... 7.1826139e-03\n",
      "  1.2183433e-02 8.1782602e-04]\n",
      " [2.8284760e-02 1.1375606e-01 9.3441263e-02 ... 9.4943158e-03\n",
      "  2.1340549e-02 1.0017116e-02]\n",
      " [4.3549649e-03 1.2827999e-03 4.0413797e-02 ... 7.5882179e-01\n",
      "  1.0643129e-03 8.7607466e-03]]\n"
     ]
    }
   ],
   "source": [
    "from keras.models import Sequential\n",
    "from keras.layers import Dense,Input,Flatten\n",
    "from keras.utils import np_utils\n",
    "\n",
    "'''modelの設定'''\n",
    "model = Sequential()\n",
    "'''\n",
    "    modelにレイヤーを追加\n",
    "    32*32の3チャンネル画像を一次元に伸ばして入力(32*32*3=3072)\n",
    "'''\n",
    "model.add(Dense(512, activation='relu',input_shape=(32*32*3,)))\n",
    "model.add(Dense(256, activation='relu'))\n",
    "model.add(Dense(128, activation='relu'))\n",
    "model.add(Dense(10, activation='softmax'))\n",
    "\n",
    "'''modelに訓練プロセスを設定'''\n",
    "model.compile(loss='categorical_crossentropy',\n",
    "              optimizer='adam',\n",
    "              metrics=['accuracy'])\n",
    "\n",
    "y_train = np_utils.to_categorical(y_train)\n",
    "y_test = np_utils.to_categorical(y_test)\n",
    "\n",
    "\n",
    "''' 訓練データを設定＆学習 '''\n",
    "model.fit(x_train, y_train, epochs=20, batch_size=32,validation_split=0.2)\n",
    "\n",
    "''' モデルの評価 '''\n",
    "loss_and_metrics = model.evaluate(x_test, y_test, batch_size=128)\n",
    "print(loss_and_metrics)\n",
    "\n",
    "''' モデルによる予測 '''\n",
    "classes = model.predict(x_test, batch_size=128)\n",
    "print(classes)"
   ]
  },
  {
   "cell_type": "code",
   "execution_count": 37,
   "metadata": {},
   "outputs": [
    {
     "name": "stdout",
     "output_type": "stream",
     "text": [
      "Train on 40000 samples, validate on 10000 samples\n",
      "Epoch 1/10\n",
      "40000/40000 [==============================] - 39s 967us/step - loss: 1.3385 - acc: 0.5169 - val_loss: 1.4934 - val_acc: 0.4744\n",
      "Epoch 2/10\n",
      "40000/40000 [==============================] - 39s 979us/step - loss: 1.3201 - acc: 0.5242 - val_loss: 1.5130 - val_acc: 0.4711\n",
      "Epoch 3/10\n",
      "40000/40000 [==============================] - 46s 1ms/step - loss: 1.3013 - acc: 0.5324 - val_loss: 1.4943 - val_acc: 0.4757\n",
      "Epoch 4/10\n",
      "40000/40000 [==============================] - 36s 889us/step - loss: 1.2845 - acc: 0.5384 - val_loss: 1.5178 - val_acc: 0.4750\n",
      "Epoch 5/10\n",
      "40000/40000 [==============================] - 40s 994us/step - loss: 1.2675 - acc: 0.5412 - val_loss: 1.4939 - val_acc: 0.4884\n",
      "Epoch 6/10\n",
      "40000/40000 [==============================] - 40s 993us/step - loss: 1.2450 - acc: 0.5487 - val_loss: 1.5286 - val_acc: 0.4826\n",
      "Epoch 7/10\n",
      "40000/40000 [==============================] - 40s 1ms/step - loss: 1.2375 - acc: 0.5505 - val_loss: 1.5069 - val_acc: 0.4799\n",
      "Epoch 8/10\n",
      "40000/40000 [==============================] - 40s 993us/step - loss: 1.2149 - acc: 0.5602 - val_loss: 1.5504 - val_acc: 0.4757\n",
      "Epoch 9/10\n",
      "40000/40000 [==============================] - 40s 1000us/step - loss: 1.2058 - acc: 0.5636 - val_loss: 1.5220 - val_acc: 0.4737\n",
      "Epoch 10/10\n",
      "40000/40000 [==============================] - 40s 1ms/step - loss: 1.1845 - acc: 0.5737 - val_loss: 1.5444 - val_acc: 0.4803\n",
      "10000/10000 [==============================] - 1s 72us/step\n",
      "[1.5066058917999268, 0.4843]\n",
      "[[8.7733520e-03 2.5076900e-02 7.8631073e-02 ... 2.9639292e-03\n",
      "  1.3051419e-01 1.7512066e-02]\n",
      " [2.4353710e-03 2.5347373e-03 1.7909540e-04 ... 2.5234531e-05\n",
      "  8.6376578e-01 1.3072585e-01]\n",
      " [8.5982427e-02 2.4440344e-01 7.9599197e-04 ... 7.8179553e-04\n",
      "  6.4063019e-01 2.5884409e-02]\n",
      " ...\n",
      " [1.7592186e-02 3.9987036e-04 3.7117821e-01 ... 2.6463147e-02\n",
      "  6.4060085e-02 3.2954969e-02]\n",
      " [9.5020281e-03 6.8663112e-03 5.5386584e-02 ... 7.8220315e-02\n",
      "  2.0275768e-03 4.4160797e-03]\n",
      " [4.6777423e-02 8.7420235e-04 1.9696707e-01 ... 3.2295528e-01\n",
      "  2.2824513e-02 4.6458235e-03]]\n"
     ]
    }
   ],
   "source": [
    "from keras.layers import Conv2D, MaxPooling2D\n",
    "\n",
    "modelConv = Sequential()\n",
    "\n",
    "modelConv.add(Conv2D(filters=128, kernel_size=(3,3), activation='relu', input_shape=(32, 32, 3)))\n",
    "modelConv.add(Conv2D(filters=256, kernel_size=(3,3), activation='relu'))\n",
    "modelConv.add(MaxPooling2D(pool_size=(2,2)))\n",
    "modelConv.add(Dropout(0.25))\n",
    "modelConv.add(Flatten())\n",
    "modelConv.add(Dense(units=128, activation='relu'))\n",
    "modelConv.add(Dropout(0.5))\n",
    "modelConv.add(Dense(units=10, activation='softmax'))\n",
    "\n",
    "modelConv.compile(loss='categorical_crossentropy',\n",
    "              optimizer='adam',\n",
    "              metrics=['accuracy'])\n",
    "\n",
    "model.fit(x_train, y_train, epochs=10, batch_size=32, validation_split=0.2)\n",
    "\n",
    "loss_and_metrics = model.evaluate(x_test, y_test, batch_size=128)\n",
    "print(loss_and_metrics)\n",
    "\n",
    "classes = model.predict(x_test, batch_size=128)\n",
    "print(classes)"
   ]
  },
  {
   "cell_type": "code",
   "execution_count": null,
   "metadata": {},
   "outputs": [],
   "source": []
  }
 ],
 "metadata": {
  "kernelspec": {
   "display_name": "Python 3",
   "language": "python",
   "name": "python3"
  },
  "language_info": {
   "codemirror_mode": {
    "name": "ipython",
    "version": 3
   },
   "file_extension": ".py",
   "mimetype": "text/x-python",
   "name": "python",
   "nbconvert_exporter": "python",
   "pygments_lexer": "ipython3",
   "version": "3.6.4"
  }
 },
 "nbformat": 4,
 "nbformat_minor": 2
}
