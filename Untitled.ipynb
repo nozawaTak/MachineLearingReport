{
 "cells": [
  {
   "cell_type": "code",
   "execution_count": 6,
   "metadata": {},
   "outputs": [],
   "source": [
    "import numpy as np\n",
    "import matplotlib.pyplot as plt\n",
    "from keras.datasets import cifar10\n",
    "from sklearn.ensemble import RandomForestClassifier\n",
    "\n",
    "(x_train, y_train), (x_test, y_test) = cifar10.load_data()\n",
    "x_train = x_train.reshape(x_train.shape[0],32*32*3)\n",
    "x_test = x_test.reshape(x_test.shape[0],32*32*3)"
   ]
  },
  {
   "cell_type": "code",
   "execution_count": 8,
   "metadata": {},
   "outputs": [],
   "source": [
    "x_train = x_train.astype('float32')\n",
    "x_test = x_test.astype('float32')\n",
    "x_train /= 255\n",
    "x_test /= 255"
   ]
  },
  {
   "cell_type": "code",
   "execution_count": 10,
   "metadata": {},
   "outputs": [
    {
     "name": "stderr",
     "output_type": "stream",
     "text": [
      "/Users/nozawa/anaconda3/lib/python3.6/site-packages/ipykernel_launcher.py:2: DataConversionWarning: A column-vector y was passed when a 1d array was expected. Please change the shape of y to (n_samples,), for example using ravel().\n",
      "  \n"
     ]
    },
    {
     "name": "stdout",
     "output_type": "stream",
     "text": [
      "Train : 0.43404\n",
      "Test : 0.3708\n"
     ]
    }
   ],
   "source": [
    "rf = RandomForestClassifier(max_depth=8)\n",
    "rf.fit(x_train, y_train)\n",
    "print(\"Train :\", rf.score(x_train, y_train))\n",
    "print(\"Test :\", rf.score(x_test, y_test))"
   ]
  },
  {
   "cell_type": "code",
   "execution_count": null,
   "metadata": {},
   "outputs": [],
   "source": [
    "from sklearn.svm import LinearSVC\n",
    "\n",
    "x_train_normed = x_train / np.linalg.norm(x_train, ord=2, axis=1, keepdims=True)\n",
    "x_test_normed = x_test / np.linalg.norm(x_test, ord=2, axis=1, keepdims=True)\n",
    "svc = LinearSVC()\n",
    "svc.fit(x_train_normed, y_train)\n",
    "\n",
    "print(\"Train :\", svc.score(x_train_normed, y_train))\n",
    "print(\"Test :\", svc.score(x_test_normed, y_test))"
   ]
  },
  {
   "cell_type": "code",
   "execution_count": 12,
   "metadata": {},
   "outputs": [
    {
     "name": "stdout",
     "output_type": "stream",
     "text": [
      "Train on 40000 samples, validate on 10000 samples\n",
      "Epoch 1/20\n",
      "40000/40000 [==============================] - 41s 1ms/step - loss: 1.9002 - acc: 0.3061 - val_loss: 1.8043 - val_acc: 0.3478\n",
      "Epoch 2/20\n",
      "40000/40000 [==============================] - 45s 1ms/step - loss: 1.7129 - acc: 0.3814 - val_loss: 1.6907 - val_acc: 0.3880\n",
      "Epoch 3/20\n",
      "40000/40000 [==============================] - 44s 1ms/step - loss: 1.6297 - acc: 0.4135 - val_loss: 1.6361 - val_acc: 0.4182\n",
      "Epoch 4/20\n",
      "40000/40000 [==============================] - 43s 1ms/step - loss: 1.5582 - acc: 0.4380 - val_loss: 1.5780 - val_acc: 0.4390\n",
      "Epoch 5/20\n",
      "40000/40000 [==============================] - 44s 1ms/step - loss: 1.5300 - acc: 0.4508 - val_loss: 1.5934 - val_acc: 0.4245\n",
      "Epoch 6/20\n",
      "40000/40000 [==============================] - 41s 1ms/step - loss: 1.4838 - acc: 0.4671 - val_loss: 1.5119 - val_acc: 0.4587\n",
      "Epoch 7/20\n",
      "40000/40000 [==============================] - 46s 1ms/step - loss: 1.4511 - acc: 0.4794 - val_loss: 1.5445 - val_acc: 0.4508\n",
      "Epoch 8/20\n",
      "40000/40000 [==============================] - 41s 1ms/step - loss: 1.4268 - acc: 0.4893 - val_loss: 1.4923 - val_acc: 0.4761\n",
      "Epoch 9/20\n",
      "40000/40000 [==============================] - 41s 1ms/step - loss: 1.4015 - acc: 0.4973 - val_loss: 1.4853 - val_acc: 0.4748\n",
      "Epoch 10/20\n",
      "40000/40000 [==============================] - 42s 1ms/step - loss: 1.3749 - acc: 0.5046 - val_loss: 1.4753 - val_acc: 0.4809\n",
      "Epoch 11/20\n",
      "40000/40000 [==============================] - 42s 1ms/step - loss: 1.3520 - acc: 0.5140 - val_loss: 1.4799 - val_acc: 0.4812\n",
      "Epoch 12/20\n",
      "40000/40000 [==============================] - 42s 1ms/step - loss: 1.3296 - acc: 0.5238 - val_loss: 1.4798 - val_acc: 0.4819\n",
      "Epoch 13/20\n",
      "40000/40000 [==============================] - 42s 1ms/step - loss: 1.3132 - acc: 0.5268 - val_loss: 1.4607 - val_acc: 0.4890\n",
      "Epoch 14/20\n",
      "40000/40000 [==============================] - 42s 1ms/step - loss: 1.2862 - acc: 0.5366 - val_loss: 1.4791 - val_acc: 0.4866\n",
      "Epoch 15/20\n",
      "40000/40000 [==============================] - 47s 1ms/step - loss: 1.2702 - acc: 0.5402 - val_loss: 1.4682 - val_acc: 0.4923\n",
      "Epoch 16/20\n",
      "40000/40000 [==============================] - 39s 984us/step - loss: 1.2485 - acc: 0.5517 - val_loss: 1.4950 - val_acc: 0.4874\n",
      "Epoch 17/20\n",
      "40000/40000 [==============================] - 39s 984us/step - loss: 1.2321 - acc: 0.5563 - val_loss: 1.4736 - val_acc: 0.4973\n",
      "Epoch 18/20\n",
      "40000/40000 [==============================] - 44s 1ms/step - loss: 1.2099 - acc: 0.5653 - val_loss: 1.5042 - val_acc: 0.4888\n",
      "Epoch 19/20\n",
      "40000/40000 [==============================] - 40s 1ms/step - loss: 1.1982 - acc: 0.5688 - val_loss: 1.4881 - val_acc: 0.4915\n",
      "Epoch 20/20\n",
      "40000/40000 [==============================] - 45s 1ms/step - loss: 1.1834 - acc: 0.5725 - val_loss: 1.5085 - val_acc: 0.4897\n",
      "10000/10000 [==============================] - 1s 69us/step\n",
      "[1.500324641609192, 0.4892]\n",
      "[[4.1394040e-02 8.1203900e-02 2.5420342e-02 ... 2.8101869e-03\n",
      "  8.7023549e-02 2.2528285e-02]\n",
      " [1.5392719e-01 1.4962562e-02 8.1806872e-03 ... 2.1797791e-03\n",
      "  5.8111233e-01 2.3754193e-01]\n",
      " [2.6201737e-01 2.3424059e-01 1.1388370e-03 ... 1.2301781e-03\n",
      "  4.1476110e-01 8.5952193e-02]\n",
      " ...\n",
      " [4.0535508e-03 8.5652791e-06 1.9855858e-01 ... 7.1826139e-03\n",
      "  1.2183433e-02 8.1782602e-04]\n",
      " [2.8284760e-02 1.1375606e-01 9.3441263e-02 ... 9.4943158e-03\n",
      "  2.1340549e-02 1.0017116e-02]\n",
      " [4.3549649e-03 1.2827999e-03 4.0413797e-02 ... 7.5882179e-01\n",
      "  1.0643129e-03 8.7607466e-03]]\n"
     ]
    }
   ],
   "source": [
    "from keras.models import Sequential\n",
    "from keras.layers import Dense,Input,Flatten\n",
    "from keras.utils import np_utils\n",
    "\n",
    "'''modelの設定'''\n",
    "model = Sequential()\n",
    "'''\n",
    "    modelにレイヤーを追加\n",
    "    32*32の3チャンネル画像を一次元に伸ばして入力(32*32*3=3072)\n",
    "'''\n",
    "model.add(Dense(512, activation='relu',input_shape=(32*32*3,)))\n",
    "model.add(Dense(256, activation='relu'))\n",
    "model.add(Dense(128, activation='relu'))\n",
    "model.add(Dense(10, activation='softmax'))\n",
    "\n",
    "'''modelに訓練プロセスを設定'''\n",
    "model.compile(loss='categorical_crossentropy',\n",
    "              optimizer='adam',\n",
    "              metrics=['accuracy'])\n",
    "\n",
    "y_train = np_utils.to_categorical(y_train)\n",
    "y_test = np_utils.to_categorical(y_test)\n",
    "\n",
    "\n",
    "''' 訓練データを設定＆学習 '''\n",
    "model.fit(x_train, y_train, epochs=20, batch_size=32,validation_split=0.2)\n",
    "\n",
    "''' モデルの評価 '''\n",
    "loss_and_metrics = model.evaluate(x_test, y_test, batch_size=128)\n",
    "print(loss_and_metrics)\n",
    "\n",
    "''' モデルによる予測 '''\n",
    "classes = model.predict(x_test, batch_size=128)\n",
    "print(classes)"
   ]
  },
  {
   "cell_type": "code",
   "execution_count": null,
   "metadata": {},
   "outputs": [
    {
     "name": "stdout",
     "output_type": "stream",
     "text": [
      "Train on 40000 samples, validate on 10000 samples\n",
      "Epoch 1/10\n",
      "40000/40000 [==============================] - 42s 1ms/step - loss: 1.1652 - acc: 0.5766 - val_loss: 1.5046 - val_acc: 0.4882\n",
      "Epoch 2/10\n",
      "40000/40000 [==============================] - 40s 992us/step - loss: 1.1469 - acc: 0.5867 - val_loss: 1.5502 - val_acc: 0.4814\n",
      "Epoch 3/10\n",
      "40000/40000 [==============================] - 41s 1ms/step - loss: 1.1377 - acc: 0.5852 - val_loss: 1.5466 - val_acc: 0.4948\n",
      "Epoch 4/10\n",
      "40000/40000 [==============================] - 42s 1ms/step - loss: 1.1157 - acc: 0.5953 - val_loss: 1.5355 - val_acc: 0.4883\n",
      "Epoch 5/10\n",
      "40000/40000 [==============================] - 43s 1ms/step - loss: 1.1025 - acc: 0.6014 - val_loss: 1.5376 - val_acc: 0.4928\n",
      "Epoch 6/10\n",
      "40000/40000 [==============================] - 45s 1ms/step - loss: 1.0862 - acc: 0.6056 - val_loss: 1.5549 - val_acc: 0.4925\n",
      "Epoch 7/10\n",
      "12736/40000 [========>.....................] - ETA: 29s - loss: 1.0517 - acc: 0.6207"
     ]
    }
   ],
   "source": [
    "from keras.layers import Conv2D, MaxPooling2D\n",
    "\n",
    "modelConv = Sequential()\n",
    "\n",
    "modelConv.add(Conv2D(filters=256, kernel_size=(3,3), activation='relu', input_shape=(32, 32, 3)))\n",
    "modelConv.add(MaxPooling2D(pool_size=(2,2)))\n",
    "modelConv.add(Flatten())\n",
    "modelConv.add(Dense(units=128, activation='relu'))\n",
    "modelConv.add(Dense(units=64, activation='relu'))\n",
    "modelConv.add(Dense(units=32, activation='relu'))\n",
    "modelConv.add(Dense(units=10, activation='softmax'))\n",
    "\n",
    "modelConv.compile(loss='categorical_crossentropy',\n",
    "              optimizer='adam',\n",
    "              metrics=['accuracy'])\n",
    "\n",
    "model.fit(x_train, y_train, epochs=10, batch_size=32, validation_split=0.2)\n",
    "\n",
    "loss_and_metrics = model.evaluate(x_test, y_test, batch_size=128)\n",
    "print(loss_and_metrics)\n",
    "\n",
    "classes = model.predict(x_test, batch_size=128)\n",
    "print(classes)"
   ]
  }
 ],
 "metadata": {
  "kernelspec": {
   "display_name": "Python 3",
   "language": "python",
   "name": "python3"
  },
  "language_info": {
   "codemirror_mode": {
    "name": "ipython",
    "version": 3
   },
   "file_extension": ".py",
   "mimetype": "text/x-python",
   "name": "python",
   "nbconvert_exporter": "python",
   "pygments_lexer": "ipython3",
   "version": "3.6.4"
  }
 },
 "nbformat": 4,
 "nbformat_minor": 2
}
